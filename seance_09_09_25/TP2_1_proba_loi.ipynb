{
 "cells": [
  {
   "cell_type": "markdown",
   "metadata": {},
   "source": [
    "# TP 2.1: Un peu de probabilités"
   ]
  },
  {
   "cell_type": "markdown",
   "metadata": {},
   "source": [
    "## 1. Autour de la loi normale\n",
    "\n",
    "La fonction `rnorm()` permet de générer des observations indépendantes d'une loi normale. Par défaut, la moyenne de cette loi est nulle et la variance vaut 1."
   ]
  },
  {
   "cell_type": "code",
   "execution_count": 2,
   "metadata": {
    "vscode": {
     "languageId": "r"
    }
   },
   "outputs": [
    {
     "data": {
      "text/html": [
       "<style>\n",
       ".list-inline {list-style: none; margin:0; padding: 0}\n",
       ".list-inline>li {display: inline-block}\n",
       ".list-inline>li:not(:last-child)::after {content: \"\\00b7\"; padding: 0 .5ex}\n",
       "</style>\n",
       "<ol class=list-inline><li>0.237843530353956</li><li>0.893631607448421</li><li>1.30656861992721</li><li>-1.93432773149224</li><li>0.762313374242347</li><li>1.14516371905069</li><li>-1.56069119340888</li><li>0.601913006699493</li><li>0.230402187483281</li><li>-0.0123298990830593</li></ol>\n"
      ],
      "text/latex": [
       "\\begin{enumerate*}\n",
       "\\item 0.237843530353956\n",
       "\\item 0.893631607448421\n",
       "\\item 1.30656861992721\n",
       "\\item -1.93432773149224\n",
       "\\item 0.762313374242347\n",
       "\\item 1.14516371905069\n",
       "\\item -1.56069119340888\n",
       "\\item 0.601913006699493\n",
       "\\item 0.230402187483281\n",
       "\\item -0.0123298990830593\n",
       "\\end{enumerate*}\n"
      ],
      "text/markdown": [
       "1. 0.237843530353956\n",
       "2. 0.893631607448421\n",
       "3. 1.30656861992721\n",
       "4. -1.93432773149224\n",
       "5. 0.762313374242347\n",
       "6. 1.14516371905069\n",
       "7. -1.56069119340888\n",
       "8. 0.601913006699493\n",
       "9. 0.230402187483281\n",
       "10. -0.0123298990830593\n",
       "\n",
       "\n"
      ],
      "text/plain": [
       " [1]  0.2378435  0.8936316  1.3065686 -1.9343277  0.7623134  1.1451637\n",
       " [7] -1.5606912  0.6019130  0.2304022 -0.0123299"
      ]
     },
     "metadata": {},
     "output_type": "display_data"
    }
   ],
   "source": [
    "# Génère un vecteur de 10 observations\n",
    "vecteur_gaussien_10 <- rnorm(10)\n",
    "vecteur_gaussien_10"
   ]
  },
  {
   "cell_type": "markdown",
   "metadata": {},
   "source": [
    "<div class=\"alert alert-block alert-success\">\n",
    "    Utilisez la cellule suivante pour répondre aux questions :\n",
    "    <ol>\n",
    "        <li>Représenter l'histogramme des valeurs contenues dans <code>vecteur_gaussien_10</code> grâce à la fonction <code>hist()</code> en limitant l'axe des abscisses à $[-3,3]$.</li>\n",
    "        <li>Effectuer les mêmes opérations en générant cette fois 100 observations dans un objet <code>vecteur_gaussien_100</code>. Commenter.</li>\n",
    "        <li>Dans une matrice de taille $200 \\times 10$, générer des observations d'une loi normale centrée réduite.</li>\n",
    "        <li>Calculer les 200 moyennes des 200 échantillons donnés par les lignes de la matrice précédente. Stocker les résultats dans un objet <code>vecteur_moyen_10</code> et représenter l'histogramme de ces 200 moyennes en utilisant la même échelle que précédemment pour l'axe des abscisses.</li>\n",
    "        <li>Calculer la moyenne et la variance des valeurs du vecteur <code>vecteur_moyen_10</code>. Ces résultats sont-ils cohérents avec les valeurs théoriques ?</li>\n",
    "        <li>Effectuer les mêmes opérations avec des échantillons de 100 observations dans une matrice $200 \\times 100$.</li>\n",
    "    </ol>\n",
    "</div>"
   ]
  },
  {
   "cell_type": "code",
   "execution_count": null,
   "metadata": {
    "vscode": {
     "languageId": "r"
    }
   },
   "outputs": [
    {
     "data": {
      "text/html": [
       "<table class=\"dataframe\">\n",
       "<caption>A matrix: 1 × 1 of type dbl</caption>\n",
       "<tbody>\n",
       "\t<tr><td>0.009194976</td></tr>\n",
       "</tbody>\n",
       "</table>\n"
      ],
      "text/latex": [
       "A matrix: 1 × 1 of type dbl\n",
       "\\begin{tabular}{l}\n",
       "\t 0.009194976\\\\\n",
       "\\end{tabular}\n"
      ],
      "text/markdown": [
       "\n",
       "A matrix: 1 × 1 of type dbl\n",
       "\n",
       "| 0.009194976 |\n",
       "\n"
      ],
      "text/plain": [
       "     [,1]       \n",
       "[1,] 0.009194976"
      ]
     },
     "metadata": {},
     "output_type": "display_data"
    },
    {
     "data": {
      "text/html": [
       "0.0131742425613343"
      ],
      "text/latex": [
       "0.0131742425613343"
      ],
      "text/markdown": [
       "0.0131742425613343"
      ],
      "text/plain": [
       "[1] 0.01317424"
      ]
     },
     "metadata": {},
     "output_type": "display_data"
    }
   ],
   "source": [
    "# À FAIRE\n",
    "#hist(vecteur_gaussien_10,xlim = c(-3,3))\n",
    "#vecteur_gaussien_100 <- rnorm(100)\n",
    "#hist(vecteur_gaussien_100,xlim = c(-3,3))\n",
    "# les observations ressemblent plus à une loi normale\n",
    "matrice_200_10 <- matrix(rnorm(200*10), nrow=200)\n",
    "vecteur_moyen_10 <- matrix(apply(matrice_200_10, 1, mean),nrow =  200)\n",
    "#print(vecteur_moyen_10)\n",
    "#hist(vecteur_moyen_10,xlim = c(-3,3))\n",
    "#var(vecteur_moyen_10) # var=0,095216\n",
    "#mean(vecteur_moyen_10) # mean = 0,042232\n",
    "#summary(vecteur_moyen_10)\n",
    "matrice_200_100 <- matrix(rnorm(200*100), nrow=200)\n",
    "vecteur_moyen_100 <- matrix(apply(matrice_200_100, 1, mean),nrow =  200)\n",
    "#hist(vecteur_moyen_100,xlim = c(-3,3))\n",
    "#var(vecteur_moyen_100) # var=0,00919 cohérent car 10* plus échantillon==> /100 variance\n",
    "#mean(vecteur_moyen_100) # mean = 0,01317 cohérent car plus proche de 0 (valeurs théoriques ?)\n"
   ]
  },
  {
   "cell_type": "markdown",
   "metadata": {},
   "source": [
    "## 2. Vers la loi du $\\chi^2$\n",
    "\n",
    "Comme dans l'exercice précédent, nous générons 200 échantillons de 10 observations générées selon un loi normale centrée réduite."
   ]
  },
  {
   "cell_type": "code",
   "execution_count": 39,
   "metadata": {
    "vscode": {
     "languageId": "r"
    }
   },
   "outputs": [],
   "source": [
    "matrice_200_10 <- matrix(rnorm(200*10), nrow=200)"
   ]
  },
  {
   "cell_type": "markdown",
   "metadata": {},
   "source": [
    "<div class=\"alert alert-block alert-success\">\n",
    "    Utilisez la cellule suivante pour répondre aux questions :\n",
    "    <ol>\n",
    "        <li>À partir de la matrice <code>matrice_200_10</code>, calculer le vecteur <code>vecteur_carre_10</code> de longueur 200 contenant la somme des carrés des valeurs de chacun des 200 échantillons de taille 10.</li>\n",
    "        <li>Représenter l'histogramme de ces valeurs.</li>\n",
    "        <li>Superposer la densité d'une loi de $\\chi^2$ (fonction <code>dchisq()</code>)à 10 degrés de liberté.<br>\n",
    "            <center><img src=\"img/chi2.png\"></center></li>\n",
    "    </ol>\n",
    "</div>"
   ]
  },
  {
   "cell_type": "code",
   "execution_count": null,
   "metadata": {
    "vscode": {
     "languageId": "r"
    }
   },
   "outputs": [
    {
     "data": {
      "image/png": "[encoded data removed]",
      "text/plain": [
       "plot without title"
      ]
     },
     "metadata": {
      "image/png": {
       "height": 420,
       "width": 420
      }
     },
     "output_type": "display_data"
    }
   ],
   "source": [
    "# À FAIRE\n",
    "vecteur_carre_10 <- matrix(apply(matrice_200_10^2, 1, sum),nrow =  200)\n",
    "x<-seq(0,30,length.out = 25)\n",
    "plot(dchisq(x,df = 10))\n",
    "hist(vecteur_carre_10,add=TRUE,prob=TRUE)"
   ]
  },
  {
   "cell_type": "markdown",
   "metadata": {},
   "source": [
    "## 3. Vers la loi de Fisher\n",
    "\n",
    "Nous générons cette fois deux matrices remplies d'observations indépendantes de loi normale centrée réduite et de tailles respectives $200 \\times 5$ et $200 \\times 10$."
   ]
  },
  {
   "cell_type": "code",
   "execution_count": 74,
   "metadata": {
    "vscode": {
     "languageId": "r"
    }
   },
   "outputs": [],
   "source": [
    "matrice_200_5 <- matrix(rnorm(200*5), nrow=200)\n",
    "matrice_200_10 <- matrix(rnorm(200*10), nrow=200)"
   ]
  },
  {
   "cell_type": "markdown",
   "metadata": {},
   "source": [
    "<div class=\"alert alert-block alert-success\">\n",
    "    Utilisez la cellule suivante pour répondre aux questions :\n",
    "    <ol>\n",
    "        <li>Comme dans l'exercice précédent, calculer les vecteurs <code>vecteur_carre_5</code> et <code>vecteur_carre_10</code> de longueur 200 contenant la somme des carrés des valeurs de chaque ligne des deux matrices.</li>\n",
    "        <li>Calculer le vecteur <code>vecteur_rapport_5_10</code> obtenu par le rapport de <code>vecteur_carre_5</code> sur <code>vecteur_carre_10</code>.</li>\n",
    "        <li>Représenter l'histogramme des 200 valeurs du vecteur <code>vecteur_rapport_5_10</code>.</li>\n",
    "        <li>Superposer la densité d'une loi de Fisher (fonction <code>df()</code>)à 5 et 10 degrés de liberté.</li>\n",
    "    </ol>\n",
    "</div>"
   ]
  },
  {
   "cell_type": "code",
   "execution_count": null,
   "metadata": {
    "vscode": {
     "languageId": "r"
    }
   },
   "outputs": [
    {
     "data": {
      "image/png": "[encoded data removed]",
      "text/plain": [
       "Plot with title “Histogram of vecteur_rapport_5_10”"
      ]
     },
     "metadata": {
      "image/png": {
       "height": 420,
       "width": 420
      }
     },
     "output_type": "display_data"
    }
   ],
   "source": [
    "# À FAIRE\n",
    "vecteur_carre_10 <- matrix(apply(matrice_200_10^2, 1, sum),nrow =  200)\n",
    "vecteur_carre_5 <- matrix(apply(matrice_200_5^2, 1, sum),nrow =  200)\n",
    "vecteur_rapport_5_10 <- vecteur_carre_5/vecteur_carre_10\n",
    "hist(vecteur_rapport_5_10)\n",
    "plot(df)\n",
    "#ça casse les couilles les superpositions de plots..... "
   ]
  },
  {
   "cell_type": "code",
   "execution_count": null,
   "metadata": {
    "vscode": {
     "languageId": "r"
    }
   },
   "outputs": [],
   "source": []
  }
 ],
 "metadata": {
  "kernelspec": {
   "display_name": "R",
   "language": "R",
   "name": "ir"
  },
  "language_info": {
   "codemirror_mode": "r",
   "file_extension": ".r",
   "mimetype": "text/x-r-source",
   "name": "R",
   "pygments_lexer": "r",
   "version": "4.3.1"
  }
 },
 "nbformat": 4,
 "nbformat_minor": 4
}
